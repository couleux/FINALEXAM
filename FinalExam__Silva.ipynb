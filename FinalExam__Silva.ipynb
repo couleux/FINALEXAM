{
  "nbformat": 4,
  "nbformat_minor": 0,
  "metadata": {
    "colab": {
      "provenance": []
    },
    "kernelspec": {
      "name": "python3",
      "display_name": "Python 3"
    },
    "language_info": {
      "name": "python"
    }
  },
  "cells": [
    {
      "cell_type": "code",
      "execution_count": null,
      "metadata": {
        "colab": {
          "base_uri": "https://localhost:8080/"
        },
        "id": "oEm5C5Rw7PPH",
        "outputId": "49cfa021-8528-4b74-f097-a26da3e3cd35"
      },
      "outputs": [
        {
          "output_type": "stream",
          "name": "stdout",
          "text": [
            "Generated 3x4 Matrix:\n",
            "[[ 5  1  2 10]\n",
            " [11  7  9  9]\n",
            " [14  8 18 13]]\n",
            "\n",
            "Coefficient Matrix (A):\n",
            "[[ 5  1  2]\n",
            " [11  7  9]\n",
            " [14  8 18]]\n",
            "\n",
            "Right-hand Side Vector (b):\n",
            "[10  9 13]\n"
          ]
        }
      ],
      "source": [
        "import numpy as np\n",
        "\n",
        "# Step 1: Generate a 3x4 random matrix\n",
        "matrix_3x4 = np.random.randint(1, 21, size=(3, 4))\n",
        "A = matrix_3x4[:, :3]  # Coefficient matrix (first 3 columns)\n",
        "b = matrix_3x4[:, 3]   # Right-hand side vector (last column)\n",
        "\n",
        "print(\"Generated 3x4 Matrix:\")\n",
        "print(matrix_3x4)\n",
        "\n",
        "print(\"\\nCoefficient Matrix (A):\")\n",
        "print(A)\n",
        "\n",
        "print(\"\\nRight-hand Side Vector (b):\")\n",
        "print(b)"
      ]
    },
    {
      "cell_type": "code",
      "source": [
        "# Step 2: Solve using Matrix Inverse Method\n",
        "try:\n",
        "    A_inv = np.linalg.inv(A)  # Compute A^-1\n",
        "    x_manual = np.dot(A_inv, b)  # x = A^-1 * b\n",
        "    print(\"\\nSolution using Matrix Inverse Method:\")\n",
        "    print(x_manual)\n",
        "except np.linalg.LinAlgError:\n",
        "    print(\"\\nMatrix A is singular and cannot be inverted.\")"
      ],
      "metadata": {
        "colab": {
          "base_uri": "https://localhost:8080/"
        },
        "id": "ITUSDCPt7jTK",
        "outputId": "a2304781-c9fe-4b41-f1c5-7261f7869fa5"
      },
      "execution_count": null,
      "outputs": [
        {
          "output_type": "stream",
          "name": "stdout",
          "text": [
            "\n",
            "Solution using Matrix Inverse Method:\n",
            "[ 2.56741573 -2.58988764 -0.12359551]\n"
          ]
        }
      ]
    },
    {
      "cell_type": "code",
      "source": [
        "\n",
        "# Step 3: Solve using Gaussian Elimination\n",
        "x_gaussian = np.linalg.solve(A, b)  # Solve using Gaussian elimination\n",
        "print(\"\\nSolution using Gaussian Elimination (NumPy):\")\n",
        "print(x_gaussian)"
      ],
      "metadata": {
        "colab": {
          "base_uri": "https://localhost:8080/"
        },
        "id": "cHClFYdS7m_H",
        "outputId": "33d5ab54-a2c6-44db-f622-96d230a8605b"
      },
      "execution_count": null,
      "outputs": [
        {
          "output_type": "stream",
          "name": "stdout",
          "text": [
            "\n",
            "Solution using Gaussian Elimination (NumPy):\n",
            "[ 2.56741573 -2.58988764 -0.12359551]\n"
          ]
        }
      ]
    },
    {
      "cell_type": "code",
      "source": [
        "# Step 4: Verify the solution\n",
        "b_check = np.dot(A, x_gaussian)  # Recompute b using A and x\n",
        "print(\"\\nVerification (Ax = b):\")\n",
        "print(b_check)"
      ],
      "metadata": {
        "colab": {
          "base_uri": "https://localhost:8080/"
        },
        "id": "RrAZriPM7q_J",
        "outputId": "0478b539-5f7d-40e2-ae51-082d6a08b40d"
      },
      "execution_count": null,
      "outputs": [
        {
          "output_type": "stream",
          "name": "stdout",
          "text": [
            "\n",
            "Verification (Ax = b):\n",
            "[10.  9. 13.]\n"
          ]
        }
      ]
    }
  ]
}